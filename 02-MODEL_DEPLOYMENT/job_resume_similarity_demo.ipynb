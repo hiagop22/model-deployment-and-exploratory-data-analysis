{
 "cells": [
  {
   "cell_type": "code",
   "execution_count": 2,
   "metadata": {},
   "outputs": [
    {
     "name": "stdout",
     "output_type": "stream",
     "text": [
      "Now using node v20.11.1 (npm v10.2.4)\n",
      "Requirement already satisfied: aiohttp in /home/hiago/.pyenv/versions/3.9.19/envs/lemay/lib/python3.9/site-packages (3.9.5)\n",
      "Requirement already satisfied: aiosignal>=1.1.2 in /home/hiago/.pyenv/versions/3.9.19/envs/lemay/lib/python3.9/site-packages (from aiohttp) (1.3.1)\n",
      "Requirement already satisfied: yarl<2.0,>=1.0 in /home/hiago/.pyenv/versions/3.9.19/envs/lemay/lib/python3.9/site-packages (from aiohttp) (1.9.4)\n",
      "Requirement already satisfied: async-timeout<5.0,>=4.0 in /home/hiago/.pyenv/versions/3.9.19/envs/lemay/lib/python3.9/site-packages (from aiohttp) (4.0.3)\n",
      "Requirement already satisfied: attrs>=17.3.0 in /home/hiago/.pyenv/versions/3.9.19/envs/lemay/lib/python3.9/site-packages (from aiohttp) (23.2.0)\n",
      "Requirement already satisfied: multidict<7.0,>=4.5 in /home/hiago/.pyenv/versions/3.9.19/envs/lemay/lib/python3.9/site-packages (from aiohttp) (6.0.5)\n",
      "Requirement already satisfied: frozenlist>=1.1.1 in /home/hiago/.pyenv/versions/3.9.19/envs/lemay/lib/python3.9/site-packages (from aiohttp) (1.4.1)\n",
      "Requirement already satisfied: idna>=2.0 in /home/hiago/.pyenv/versions/3.9.19/envs/lemay/lib/python3.9/site-packages (from yarl<2.0,>=1.0->aiohttp) (3.7)\n",
      "\n",
      "\u001b[1m[\u001b[0m\u001b[34;49mnotice\u001b[0m\u001b[1;39;49m]\u001b[0m\u001b[39;49m A new release of pip is available: \u001b[0m\u001b[31;49m23.0.1\u001b[0m\u001b[39;49m -> \u001b[0m\u001b[32;49m24.0\u001b[0m\n",
      "\u001b[1m[\u001b[0m\u001b[34;49mnotice\u001b[0m\u001b[1;39;49m]\u001b[0m\u001b[39;49m To update, run: \u001b[0m\u001b[32;49mpip install --upgrade pip\u001b[0m\n"
     ]
    }
   ],
   "source": [
    "!pip install aiohttp"
   ]
  },
  {
   "cell_type": "code",
   "execution_count": 7,
   "metadata": {},
   "outputs": [
    {
     "name": "stdout",
     "output_type": "stream",
     "text": [
      "Similarity Scores:  [0.8169160485267639, 0.5495812892913818, 0.47586703300476074]\n"
     ]
    }
   ],
   "source": [
    "import aiohttp\n",
    "\n",
    "\n",
    "API_URL = \"http://0.0.0.0:80/\"\n",
    "\n",
    "\n",
    "sample_data = {\n",
    "    \"job_description\": \"We are looking for a software engineer with experience in Python, machine learning, and cloud computing.\",\n",
    "    \"resumes\": [\n",
    "        \"Experienced software engineer with a strong background in Python and cloud computing.\",\n",
    "        \"Recent graduate with a degree in computer science and knowledge of machine learning.\",\n",
    "        \"Project manager with 10 years of experience in the tech industry.\"\n",
    "    ]\n",
    "}\n",
    "\n",
    "\n",
    "async def fetch_similarity_scores(api_url, data):\n",
    "    async with aiohttp.ClientSession() as session:\n",
    "        async with session.post(api_url, json=data) as response:\n",
    "            if response.status == 200:\n",
    "                response_data = await response.json()\n",
    "                print(\"Similarity Scores: \", response_data[\"scores\"])\n",
    "            else:\n",
    "                print(\"Failed to get response:\", response.status)\n",
    "\n",
    "\n",
    "\n",
    "\n",
    "await fetch_similarity_scores(API_URL, sample_data)"
   ]
  }
 ],
 "metadata": {
  "kernelspec": {
   "display_name": "lemay",
   "language": "python",
   "name": "python3"
  },
  "language_info": {
   "codemirror_mode": {
    "name": "ipython",
    "version": 3
   },
   "file_extension": ".py",
   "mimetype": "text/x-python",
   "name": "python",
   "nbconvert_exporter": "python",
   "pygments_lexer": "ipython3",
   "version": "3.9.19"
  }
 },
 "nbformat": 4,
 "nbformat_minor": 2
}
